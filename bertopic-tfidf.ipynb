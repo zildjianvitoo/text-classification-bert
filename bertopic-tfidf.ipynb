{
 "cells": [
  {
   "cell_type": "code",
   "execution_count": null,
   "metadata": {},
   "outputs": [],
   "source": [
    "import pandas as pd\n",
    "from sentence_transformers import SentenceTransformer\n",
    "from sklearn.feature_extraction.text import TfidfVectorizer\n",
    "from sklearn.cluster import HDBSCAN\n",
    "from sklearn.metrics.pairwise import cosine_similarity\n",
    "from sklearn.datasets import fetch_20newsgroups\n",
    "from umap import UMAP\n",
    "import numpy as np\n",
    "\n",
    "try:\n",
    "    newsgroups = fetch_20newsgroups(subset=\"all\")\n",
    "    corpus = newsgroups.data\n",
    "except Exception as e:\n",
    "    print(f\"Error loading dataset: {e}\")\n",
    "    corpus = []\n",
    "\n",
    "if corpus:\n",
    "\n",
    "    model = SentenceTransformer(\"sentence-transformers/all-mpnet-base-v2\")\n",
    "\n",
    "    embeddings = model.encode(corpus, show_progress_bar=True)\n",
    "\n",
    "    reducer = UMAP(n_components=10)\n",
    "    reduced_embeddings = reducer.fit_transform(embeddings)\n",
    "\n",
    "    cluster = HDBSCAN(min_samples=10, min_cluster_size=10)\n",
    "    cluster.fit(reduced_embeddings)\n",
    "\n",
    "    labels = cluster.labels_\n",
    "\n",
    "    vectorizer = TfidfVectorizer(max_features=5000)\n",
    "\n",
    "    X = vectorizer.fit_transform(corpus)\n",
    "\n",
    "    tfidf_matrix = X.toarray()\n",
    "\n",
    "    class_tfidf_matrix = []\n",
    "    for label in set(labels):\n",
    "        if label != -1:\n",
    "            class_docs = [corpus[i] for i, l in enumerate(labels) if l == label]\n",
    "            class_tfidf = vectorizer.transform(class_docs).toarray().mean(axis=0)\n",
    "            class_tfidf_matrix.append(class_tfidf)\n",
    "\n",
    "    topics = []\n",
    "    for class_tfidf in class_tfidf_matrix:\n",
    "        topic_words = []\n",
    "        for i, tfidf in enumerate(class_tfidf):\n",
    "            if tfidf > 0:\n",
    "                topic_words.append((vectorizer.get_feature_names_out()[i], tfidf))\n",
    "        topics.append(topic_words)\n",
    "\n",
    "    for topic in topics:\n",
    "        print(topic)\n",
    "else:\n",
    "    print(\"No data to process\")"
   ]
  }
 ],
 "metadata": {
  "kernelspec": {
   "display_name": "base",
   "language": "python",
   "name": "python3"
  },
  "language_info": {
   "codemirror_mode": {
    "name": "ipython",
    "version": 3
   },
   "file_extension": ".py",
   "mimetype": "text/x-python",
   "name": "python",
   "nbconvert_exporter": "python",
   "pygments_lexer": "ipython3",
   "version": "3.12.4"
  }
 },
 "nbformat": 4,
 "nbformat_minor": 2
}
