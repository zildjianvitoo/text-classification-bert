{
 "cells": [
  {
   "cell_type": "code",
   "execution_count": 1,
   "metadata": {},
   "outputs": [],
   "source": [
    "from sklearn.datasets import fetch_20newsgroups\n",
    "import os\n",
    "newsgroups = fetch_20newsgroups(subset=\"all\")\n",
    "corpus = newsgroups.data\n",
    "os.environ[\"CUDA_VISIBLE_DEVICES\"] = \"2\"\n",
    "import torch"
   ]
  },
  {
   "cell_type": "code",
   "execution_count": null,
   "metadata": {},
   "outputs": [],
   "source": [
    "from sentence_transformers import SentenceTransformer\n",
    "\n",
    "trf = SentenceTransformer(\"sentence-transformers/all-mpnet-base-v2\")\n",
    "embeddings = trf.encode(corpus)"
   ]
  },
  {
   "cell_type": "code",
   "execution_count": null,
   "metadata": {},
   "outputs": [],
   "source": [
    "from turftopic import GMM\n",
    "\n",
    "model = GMM(20, encoder=trf).fit(corpus, embeddings=embeddings)\n",
    "model.print_topics()"
   ]
  },
  {
   "cell_type": "code",
   "execution_count": null,
   "metadata": {},
   "outputs": [],
   "source": [
    "from turftopic import KeyNMF\n",
    "\n",
    "model = KeyNMF(20, encoder=trf).fit(corpus, embeddings=embeddings)\n",
    "model.print_topics()"
   ]
  },
  {
   "cell_type": "code",
   "execution_count": null,
   "metadata": {},
   "outputs": [],
   "source": [
    "from turftopic import SemanticSignalSeparation\n",
    "\n",
    "model = SemanticSignalSeparation(20, encoder=trf).fit(corpus, embeddings=embeddings)\n",
    "model.print_topics()"
   ]
  },
  {
   "cell_type": "code",
   "execution_count": null,
   "metadata": {},
   "outputs": [],
   "source": [
    "from turftopic import ClusteringTopicModel\n",
    "\n",
    "model = ClusteringTopicModel(encoder=trf).fit(corpus, embeddings=embeddings)\n",
    "model.print_topics()"
   ]
  },
  {
   "cell_type": "code",
   "execution_count": null,
   "metadata": {},
   "outputs": [],
   "source": [
    "from turftopic import AutoEncodingTopicModel\n",
    "\n",
    "model = AutoEncodingTopicModel(20, encoder=trf).fit(corpus,  embeddings=embeddings)\n",
    "model.print_topics()"
   ]
  }
 ],
 "metadata": {
  "kernelspec": {
   "display_name": "base",
   "language": "python",
   "name": "python3"
  },
  "language_info": {
   "codemirror_mode": {
    "name": "ipython",
    "version": 3
   },
   "file_extension": ".py",
   "mimetype": "text/x-python",
   "name": "python",
   "nbconvert_exporter": "python",
   "pygments_lexer": "ipython3",
   "version": "3.12.4"
  }
 },
 "nbformat": 4,
 "nbformat_minor": 2
}
